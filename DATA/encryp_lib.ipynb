{
 "cells": [
  {
   "cell_type": "code",
   "execution_count": 2,
   "id": "b523cd8a",
   "metadata": {},
   "outputs": [],
   "source": [
    "import pandas as pd #used for handling the dataset\n",
    "import numpy as np #used for handling numbers\n",
    "from sklearn.impute import SimpleImputer #used for handling missing data\n",
    "from scipy import stats #for t-test\n",
    "from matplotlib import pyplot as plt, dates as mdates\n",
    "from datetime import datetime, timedelta\n",
    "from sklearn.preprocessing import StandardScaler #used for feature scaling"
   ]
  },
  {
   "cell_type": "markdown",
   "id": "644e2fd9",
   "metadata": {},
   "source": [
    "Base Power"
   ]
  },
  {
   "cell_type": "code",
   "execution_count": 33,
   "id": "b4551a19",
   "metadata": {},
   "outputs": [],
   "source": [
    "#base data 1\n",
    "basedata1 = pd.read_csv('base1_2023-4-24-1-45-5.csv')\n",
    "np.basearray=[]"
   ]
  },
  {
   "cell_type": "code",
   "execution_count": 34,
   "id": "c146fa04",
   "metadata": {},
   "outputs": [
    {
     "name": "stdout",
     "output_type": "stream",
     "text": [
      "3.439839506172839\n"
     ]
    }
   ],
   "source": [
    "power=basedata1['Processor Power_0(Watt)']\n",
    "basemean1=power.mean()\n",
    "print(basemean1)\n",
    "np.basearray.append(basemean1)"
   ]
  },
  {
   "cell_type": "code",
   "execution_count": 35,
   "id": "ecb9e556",
   "metadata": {},
   "outputs": [],
   "source": [
    "basedata2 = pd.read_csv('base2_2023-4-24-21-4-38.csv')"
   ]
  },
  {
   "cell_type": "code",
   "execution_count": 36,
   "id": "50ec58b9",
   "metadata": {},
   "outputs": [
    {
     "name": "stdout",
     "output_type": "stream",
     "text": [
      "4.208071942446042\n"
     ]
    }
   ],
   "source": [
    "power=basedata2['Processor Power_0(Watt)']\n",
    "basemean2=power.mean()\n",
    "print(basemean2)\n",
    "np.basearray.append(basemean2)"
   ]
  },
  {
   "cell_type": "code",
   "execution_count": 37,
   "id": "1a118c2a",
   "metadata": {},
   "outputs": [],
   "source": [
    "basedata3 = pd.read_csv('base3_2023-4-24-21-5-19.csv')"
   ]
  },
  {
   "cell_type": "code",
   "execution_count": 38,
   "id": "a8814912",
   "metadata": {},
   "outputs": [
    {
     "name": "stdout",
     "output_type": "stream",
     "text": [
      "8.223736842105263\n"
     ]
    }
   ],
   "source": [
    "power=basedata3['Processor Power_0(Watt)']\n",
    "basemean3=power.mean()\n",
    "print(basemean3)\n",
    "np.basearray.append(basemean3)"
   ]
  },
  {
   "cell_type": "code",
   "execution_count": 39,
   "id": "d7dc4544",
   "metadata": {},
   "outputs": [],
   "source": [
    "basedata4 = pd.read_csv('base4_2023-4-30-19-34-3.csv')"
   ]
  },
  {
   "cell_type": "code",
   "execution_count": 40,
   "id": "aafb38ac",
   "metadata": {},
   "outputs": [
    {
     "name": "stdout",
     "output_type": "stream",
     "text": [
      "3.297369863013699\n"
     ]
    }
   ],
   "source": [
    "power=basedata4['Processor Power_0(Watt)']\n",
    "basemean4=power.mean()\n",
    "print(basemean4)\n",
    "np.basearray.append(basemean4)"
   ]
  },
  {
   "cell_type": "code",
   "execution_count": 41,
   "id": "2c0ded4c",
   "metadata": {},
   "outputs": [],
   "source": [
    "basedata5 = pd.read_csv('base5_2023-4-30-19-35-1.csv')"
   ]
  },
  {
   "cell_type": "code",
   "execution_count": 42,
   "id": "903fb2d1",
   "metadata": {},
   "outputs": [
    {
     "name": "stdout",
     "output_type": "stream",
     "text": [
      "3.241552631578947\n"
     ]
    }
   ],
   "source": [
    "power=basedata5['Processor Power_0(Watt)']\n",
    "basemean5=power.mean()\n",
    "print(basemean5)\n",
    "np.basearray.append(basemean5)"
   ]
  },
  {
   "cell_type": "code",
   "execution_count": 43,
   "id": "bf9f33d4",
   "metadata": {},
   "outputs": [],
   "source": [
    "basedata6 = pd.read_csv('base6_2023-4-30-19-35-54.csv')"
   ]
  },
  {
   "cell_type": "code",
   "execution_count": 44,
   "id": "d93a665f",
   "metadata": {},
   "outputs": [
    {
     "name": "stdout",
     "output_type": "stream",
     "text": [
      "3.1976285714285715\n"
     ]
    }
   ],
   "source": [
    "power=basedata6['Processor Power_0(Watt)']\n",
    "basemean6=power.mean()\n",
    "print(basemean6)\n",
    "np.basearray.append(basemean6)"
   ]
  },
  {
   "cell_type": "code",
   "execution_count": 45,
   "id": "5e8f148d",
   "metadata": {},
   "outputs": [],
   "source": [
    "basedata7 = pd.read_csv('base7_2023-4-30-19-36-35.csv')"
   ]
  },
  {
   "cell_type": "code",
   "execution_count": 46,
   "id": "66348d55",
   "metadata": {},
   "outputs": [
    {
     "name": "stdout",
     "output_type": "stream",
     "text": [
      "3.2169714285714286\n"
     ]
    }
   ],
   "source": [
    "power=basedata7['Processor Power_0(Watt)']\n",
    "basemean7=power.mean()\n",
    "print(basemean7)\n",
    "np.basearray.append(basemean7)"
   ]
  },
  {
   "cell_type": "code",
   "execution_count": 51,
   "id": "cc57bf46",
   "metadata": {},
   "outputs": [],
   "source": [
    "basedata8 = pd.read_csv('base8_2023-4-30-19-46-22.csv')"
   ]
  },
  {
   "cell_type": "code",
   "execution_count": 52,
   "id": "b6d38445",
   "metadata": {},
   "outputs": [
    {
     "name": "stdout",
     "output_type": "stream",
     "text": [
      "3.200391891891892\n"
     ]
    }
   ],
   "source": [
    "power=basedata8['Processor Power_0(Watt)']\n",
    "basemean8=power.mean()\n",
    "print(basemean8)\n",
    "np.basearray.append(basemean8)"
   ]
  },
  {
   "cell_type": "code",
   "execution_count": 53,
   "id": "8b913b7b",
   "metadata": {},
   "outputs": [],
   "source": [
    "basedata9 = pd.read_csv('base9_2023-4-30-19-46-57.csv')"
   ]
  },
  {
   "cell_type": "code",
   "execution_count": 54,
   "id": "66444b9f",
   "metadata": {},
   "outputs": [
    {
     "name": "stdout",
     "output_type": "stream",
     "text": [
      "3.0856025641025644\n"
     ]
    }
   ],
   "source": [
    "power=basedata9['Processor Power_0(Watt)']\n",
    "basemean9=power.mean()\n",
    "print(basemean9)\n",
    "np.basearray.append(basemean9)"
   ]
  },
  {
   "cell_type": "code",
   "execution_count": 55,
   "id": "7d255524",
   "metadata": {},
   "outputs": [],
   "source": [
    "basedata10 = pd.read_csv('base10_2023-4-30-19-47-30.csv')"
   ]
  },
  {
   "cell_type": "code",
   "execution_count": 56,
   "id": "def33fde",
   "metadata": {},
   "outputs": [
    {
     "name": "stdout",
     "output_type": "stream",
     "text": [
      "3.138746987951807\n"
     ]
    }
   ],
   "source": [
    "power=basedata10['Processor Power_0(Watt)']\n",
    "basemean10=power.mean()\n",
    "print(basemean10)\n",
    "np.basearray.append(basemean10)"
   ]
  },
  {
   "cell_type": "markdown",
   "id": "b976875d",
   "metadata": {},
   "source": [
    "Overall base mean of power"
   ]
  },
  {
   "cell_type": "code",
   "execution_count": 57,
   "id": "515b7225",
   "metadata": {},
   "outputs": [
    {
     "name": "stdout",
     "output_type": "stream",
     "text": [
      "[3.439839506172839, 4.208071942446042, 8.223736842105263, 3.297369863013699, 3.241552631578947, 3.1976285714285715, 3.2169714285714286, 3.200391891891892, 3.0856025641025644, 3.138746987951807]\n"
     ]
    }
   ],
   "source": [
    "#the mean array of all the base powers\n",
    "print(np.basearray)"
   ]
  },
  {
   "cell_type": "code",
   "execution_count": 65,
   "id": "daf73e67",
   "metadata": {},
   "outputs": [
    {
     "data": {
      "image/png": "[encoded data removed]",
      "text/plain": [
       "<Figure size 640x480 with 1 Axes>"
      ]
     },
     "metadata": {},
     "output_type": "display_data"
    }
   ],
   "source": [
    "x_values = ['data1','data2','data3','data4','data5','data6','data7','data8','data9','data10']\n",
    "y_values = np.basearray\n",
    "#ax = plt.gca()\n",
    "\n",
    "plt.plot(x_values, y_values)\n",
    "plt.xlabel(\"Base power data\")  # add X-axis label\n",
    "plt.ylabel(\"Processor Power (Watt)\")  # add Y-axis label\n",
    "plt.title(\"Base processor power calculation\")  # add title\n",
    "plt.show()\n"
   ]
  },
  {
   "cell_type": "code",
   "execution_count": 58,
   "id": "4d99e155",
   "metadata": {},
   "outputs": [
    {
     "name": "stdout",
     "output_type": "stream",
     "text": [
      "3.8249912229263052\n"
     ]
    }
   ],
   "source": [
    "overallbasemean= np.mean(np.basearray)\n",
    "print(overallbasemean)"
   ]
  },
  {
   "cell_type": "markdown",
   "id": "ecbb705e",
   "metadata": {},
   "source": [
    "# HASHLIB DATA1"
   ]
  },
  {
   "cell_type": "code",
   "execution_count": 10,
   "id": "d43cb85f",
   "metadata": {},
   "outputs": [],
   "source": [
    "hashdata = pd.read_csv('hashlib1_2023-4-24-13-30-28.csv')\n",
    "np.hasharray=[]\n",
    "#print(hashdata.head())"
   ]
  },
  {
   "cell_type": "code",
   "execution_count": 11,
   "id": "a6e20ba5",
   "metadata": {},
   "outputs": [
    {
     "name": "stdout",
     "output_type": "stream",
     "text": [
      "0                                    13:30:28:298\n",
      "1                                    13:30:28:408\n",
      "2                                    13:30:28:519\n",
      "3                                    13:30:28:627\n",
      "4                                    13:30:28:735\n",
      "                          ...                    \n",
      "284     Cumulative DRAM Energy_0 (mWh) = 1.901940\n",
      "285        Average DRAM Power_0 (Watt) = 0.227457\n",
      "286    Cumulative GT Energy_0 (Joules) = 6.400391\n",
      "287       Cumulative GT Energy_0 (mWh) = 1.777886\n",
      "288          Average GT Power_0 (Watt) = 0.212621\n",
      "Name: System Time, Length: 289, dtype: object\n"
     ]
    }
   ],
   "source": [
    "dates =hashdata['System Time']\n",
    "print(dates)"
   ]
  },
  {
   "cell_type": "code",
   "execution_count": 12,
   "id": "8cd8b810",
   "metadata": {},
   "outputs": [
    {
     "name": "stdout",
     "output_type": "stream",
     "text": [
      "[0      9.011\n",
      "1      5.335\n",
      "2      4.700\n",
      "3      5.857\n",
      "4      3.158\n",
      "       ...  \n",
      "284      NaN\n",
      "285      NaN\n",
      "286      NaN\n",
      "287      NaN\n",
      "288      NaN\n",
      "Name: Processor Power_0(Watt), Length: 289, dtype: float64]\n"
     ]
    }
   ],
   "source": [
    "power=[]\n",
    "power.append(hashdata['Processor Power_0(Watt)'])\n",
    "print(power)"
   ]
  },
  {
   "cell_type": "code",
   "execution_count": 13,
   "id": "af84ce95",
   "metadata": {},
   "outputs": [
    {
     "name": "stdout",
     "output_type": "stream",
     "text": [
      "13:30:32\n",
      "13:30:53\n"
     ]
    }
   ],
   "source": [
    "timestamp1 = 1682339432.719072\n",
    "dt_obj1 = datetime.fromtimestamp(timestamp1)\n",
    "time1 = dt_obj1.time()\n",
    "time1 = time1.strftime(\"%H:%M:%S\")\n",
    "print(time1)\n",
    "timestamp2 = 1682339453.6123736\n",
    "dt_obj2 = datetime.fromtimestamp(timestamp2)\n",
    "time2 = dt_obj2.time()\n",
    "time2 = time2.strftime(\"%H:%M:%S\")\n",
    "print(time2)"
   ]
  },
  {
   "cell_type": "code",
   "execution_count": 14,
   "id": "9390f2f5",
   "metadata": {},
   "outputs": [],
   "source": [
    "#timearray=[]\n",
    "timevalue1 = hashdata.loc[(hashdata['System Time'] >= time1) & (hashdata['System Time'] <= time2), 'System Time'].values\n",
    "#print(timevalue)"
   ]
  },
  {
   "cell_type": "code",
   "execution_count": 15,
   "id": "5d23a096",
   "metadata": {},
   "outputs": [
    {
     "name": "stdout",
     "output_type": "stream",
     "text": [
      "47.636041666666664\n"
     ]
    }
   ],
   "source": [
    "hashdatanew=hashdata.loc[hashdata['System Time'].isin(timevalue1)]\n",
    "hashdatanew.head()\n",
    "cpu=hashdatanew['Cumulative Processor Energy_0(mWh)']\n",
    "print(cpu.mean())"
   ]
  },
  {
   "cell_type": "code",
   "execution_count": 16,
   "id": "f266027b",
   "metadata": {},
   "outputs": [
    {
     "name": "stdout",
     "output_type": "stream",
     "text": [
      "15.246536458333333\n"
     ]
    }
   ],
   "source": [
    "\n",
    "hashdatanew=hashdata.loc[hashdata['System Time'].isin(timevalue1)]\n",
    "hashdatanew.head()\n",
    "hashpower1=hashdatanew['Processor Power_0(Watt)']\n",
    "hashmean1= hashpower1.mean()\n",
    "print(hashmean1)\n",
    "np.hasharray.append(hashmean1)"
   ]
  },
  {
   "cell_type": "code",
   "execution_count": 17,
   "id": "a710e857",
   "metadata": {},
   "outputs": [
    {
     "data": {
      "image/png": "[encoded data removed]",
      "text/plain": [
       "<Figure size 640x480 with 1 Axes>"
      ]
     },
     "metadata": {},
     "output_type": "display_data"
    }
   ],
   "source": [
    "x_values = timevalue1\n",
    "y_values = hashpower1\n",
    "ax = plt.gca()\n",
    "\n",
    "formatter = mdates.DateFormatter(\"%Y-%m-%d\")\n",
    "ax.xaxis.set_major_formatter(formatter)\n",
    "locator = mdates.DayLocator()\n",
    "ax.xaxis.set_major_locator(locator)\n",
    "plt.plot(x_values, y_values)\n",
    "\n",
    "plt.show()"
   ]
  },
  {
   "cell_type": "markdown",
   "id": "269f559f",
   "metadata": {},
   "source": [
    "HASHLIB DATA2"
   ]
  },
  {
   "cell_type": "code",
   "execution_count": 18,
   "id": "12f9f5ab",
   "metadata": {},
   "outputs": [],
   "source": [
    "hashdata2 = pd.read_csv('hashlib2_2023-4-24-14-47-37.csv')"
   ]
  },
  {
   "cell_type": "code",
   "execution_count": 19,
   "id": "1654cb1b",
   "metadata": {},
   "outputs": [
    {
     "name": "stdout",
     "output_type": "stream",
     "text": [
      "14:47:42\n",
      "14:48:02\n"
     ]
    }
   ],
   "source": [
    "timestamp1 = 1682344062.125773\n",
    "dt_obj1 = datetime.fromtimestamp(timestamp1)\n",
    "time1 = dt_obj1.time()\n",
    "time1 = time1.strftime(\"%H:%M:%S\")\n",
    "print(time1)\n",
    "timestamp2 = 1682344082.6881254\n",
    "dt_obj2 = datetime.fromtimestamp(timestamp2)\n",
    "time2 = dt_obj2.time()\n",
    "time2 = time2.strftime(\"%H:%M:%S\")\n",
    "print(time2)"
   ]
  },
  {
   "cell_type": "code",
   "execution_count": 20,
   "id": "7e3ab9b4",
   "metadata": {},
   "outputs": [],
   "source": [
    "timevalue2 = hashdata2.loc[(hashdata2['System Time'] >= time1) & (hashdata2['System Time'] <= time2), 'System Time'].values"
   ]
  },
  {
   "cell_type": "code",
   "execution_count": 21,
   "id": "f20a8185",
   "metadata": {},
   "outputs": [
    {
     "name": "stdout",
     "output_type": "stream",
     "text": [
      "46.10114207650273\n"
     ]
    }
   ],
   "source": [
    "hashdatanew2=hashdata2.loc[hashdata2['System Time'].isin(timevalue2)]\n",
    "hashdatanew2.head()\n",
    "cpu=hashdatanew2['Cumulative Processor Energy_0(mWh)']\n",
    "print(cpu.mean())"
   ]
  },
  {
   "cell_type": "code",
   "execution_count": 22,
   "id": "d72b62fe",
   "metadata": {},
   "outputs": [
    {
     "name": "stdout",
     "output_type": "stream",
     "text": [
      "15.153765027322406\n"
     ]
    }
   ],
   "source": [
    "hashdatanew2=hashdata2.loc[hashdata2['System Time'].isin(timevalue2)]\n",
    "hashdatanew2.head()\n",
    "hashpower2=hashdatanew2['Processor Power_0(Watt)']\n",
    "hashmean2= hashpower2.mean()\n",
    "print(hashmean2)\n",
    "np.hasharray.append(hashmean2)"
   ]
  },
  {
   "cell_type": "markdown",
   "id": "7d57bec7",
   "metadata": {},
   "source": [
    "Hashlib Data 3"
   ]
  },
  {
   "cell_type": "code",
   "execution_count": 23,
   "id": "1fc2239a",
   "metadata": {},
   "outputs": [],
   "source": [
    "hashdata3 = pd.read_csv('hashlib3_2023-4-30-20-36-24.csv')"
   ]
  },
  {
   "cell_type": "code",
   "execution_count": 24,
   "id": "a2c4f3f8",
   "metadata": {},
   "outputs": [
    {
     "name": "stdout",
     "output_type": "stream",
     "text": [
      "20:36:27\n",
      "20:36:48\n"
     ]
    }
   ],
   "source": [
    "timestamp1 = 1682883387.0377643\n",
    "dt_obj1 = datetime.fromtimestamp(timestamp1)\n",
    "time1 = dt_obj1.time()\n",
    "time1 = time1.strftime(\"%H:%M:%S\")\n",
    "print(time1)\n",
    "timestamp2 = 1682883408.1686816\n",
    "dt_obj2 = datetime.fromtimestamp(timestamp2)\n",
    "time2 = dt_obj2.time()\n",
    "time2 = time2.strftime(\"%H:%M:%S\")\n",
    "print(time2)"
   ]
  },
  {
   "cell_type": "code",
   "execution_count": 25,
   "id": "41a66d2a",
   "metadata": {},
   "outputs": [],
   "source": [
    "timevalue3 = hashdata3.loc[(hashdata3['System Time'] >= time1) & (hashdata3['System Time'] <= time2), 'System Time'].values"
   ]
  },
  {
   "cell_type": "code",
   "execution_count": 26,
   "id": "3eb0d98b",
   "metadata": {},
   "outputs": [
    {
     "name": "stdout",
     "output_type": "stream",
     "text": [
      "51.910546875\n"
     ]
    }
   ],
   "source": [
    "hashdatanew3=hashdata3.loc[hashdata3['System Time'].isin(timevalue3)]\n",
    "hashdatanew3.head()\n",
    "cpu=hashdatanew3['Cumulative Processor Energy_0(mWh)']\n",
    "print(cpu.mean())"
   ]
  },
  {
   "cell_type": "code",
   "execution_count": 27,
   "id": "81f6001f",
   "metadata": {},
   "outputs": [
    {
     "name": "stdout",
     "output_type": "stream",
     "text": [
      "16.525380208333335\n"
     ]
    }
   ],
   "source": [
    "hashdatanew3=hashdata3.loc[hashdata3['System Time'].isin(timevalue3)]\n",
    "hashdatanew3.head()\n",
    "hashpower3=hashdatanew3['Processor Power_0(Watt)']\n",
    "hashmean3= hashpower3.mean()\n",
    "print(hashmean3)\n",
    "np.hasharray.append(hashmean3)"
   ]
  },
  {
   "cell_type": "markdown",
   "id": "46fe9401",
   "metadata": {},
   "source": [
    "Hashlib Data 4"
   ]
  },
  {
   "cell_type": "code",
   "execution_count": 31,
   "id": "bd5a9b3a",
   "metadata": {},
   "outputs": [],
   "source": [
    "hashdata4 = pd.read_csv('hashlib4_2023-4-30-20-37-20.csv')"
   ]
  },
  {
   "cell_type": "code",
   "execution_count": 33,
   "id": "c291fefa",
   "metadata": {},
   "outputs": [
    {
     "name": "stdout",
     "output_type": "stream",
     "text": [
      "20:37:22\n",
      "20:37:44\n"
     ]
    }
   ],
   "source": [
    "timestamp1 = 1682883442.9875238\n",
    "dt_obj1 = datetime.fromtimestamp(timestamp1)\n",
    "time1 = dt_obj1.time()\n",
    "time1 = time1.strftime(\"%H:%M:%S\")\n",
    "print(time1)\n",
    "timestamp2 = 1682883464.2656298\n",
    "dt_obj2 = datetime.fromtimestamp(timestamp2)\n",
    "time2 = dt_obj2.time()\n",
    "time2 = time2.strftime(\"%H:%M:%S\")\n",
    "print(time2)"
   ]
  },
  {
   "cell_type": "code",
   "execution_count": 34,
   "id": "e2484405",
   "metadata": {},
   "outputs": [],
   "source": [
    "timevalue4 = hashdata4.loc[(hashdata4['System Time'] >= time1) & (hashdata4['System Time'] <= time2), 'System Time'].values"
   ]
  },
  {
   "cell_type": "code",
   "execution_count": 36,
   "id": "623e54f1",
   "metadata": {},
   "outputs": [
    {
     "name": "stdout",
     "output_type": "stream",
     "text": [
      "50.80392537313433\n"
     ]
    }
   ],
   "source": [
    "hashdatanew4=hashdata4.loc[hashdata4['System Time'].isin(timevalue4)]\n",
    "hashdatanew4.head()\n",
    "cpu=hashdatanew4['Cumulative Processor Energy_0(mWh)']\n",
    "print(cpu.mean())"
   ]
  },
  {
   "cell_type": "code",
   "execution_count": 37,
   "id": "bf1a5d52",
   "metadata": {},
   "outputs": [
    {
     "name": "stdout",
     "output_type": "stream",
     "text": [
      "15.926980099502485\n"
     ]
    }
   ],
   "source": [
    "hashdatanew4=hashdata4.loc[hashdata4['System Time'].isin(timevalue4)]\n",
    "hashdatanew4.head()\n",
    "hashpower4=hashdatanew4['Processor Power_0(Watt)']\n",
    "hashmean4= hashpower4.mean()\n",
    "print(hashmean4)\n",
    "np.hasharray.append(hashmean4)"
   ]
  },
  {
   "cell_type": "markdown",
   "id": "9ac53c26",
   "metadata": {},
   "source": [
    "Hashlib data 5"
   ]
  },
  {
   "cell_type": "code",
   "execution_count": 39,
   "id": "28602ca4",
   "metadata": {},
   "outputs": [],
   "source": [
    "hashdata5 = pd.read_csv('hashlib5_2023-4-30-20-38-41.csv')"
   ]
  },
  {
   "cell_type": "code",
   "execution_count": 40,
   "id": "4c1e2f99",
   "metadata": {},
   "outputs": [
    {
     "name": "stdout",
     "output_type": "stream",
     "text": [
      "20:38:43\n",
      "20:39:04\n"
     ]
    }
   ],
   "source": [
    "timestamp1 = 1682883523.7093961\n",
    "dt_obj1 = datetime.fromtimestamp(timestamp1)\n",
    "time1 = dt_obj1.time()\n",
    "time1 = time1.strftime(\"%H:%M:%S\")\n",
    "print(time1)\n",
    "timestamp2 = 1682883544.611221\n",
    "dt_obj2 = datetime.fromtimestamp(timestamp2)\n",
    "time2 = dt_obj2.time()\n",
    "time2 = time2.strftime(\"%H:%M:%S\")\n",
    "print(time2)"
   ]
  },
  {
   "cell_type": "code",
   "execution_count": 41,
   "id": "86800dc9",
   "metadata": {},
   "outputs": [],
   "source": [
    "timevalue5 = hashdata5.loc[(hashdata5['System Time'] >= time1) & (hashdata5['System Time'] <= time2), 'System Time'].values"
   ]
  },
  {
   "cell_type": "code",
   "execution_count": 42,
   "id": "1ff21eae",
   "metadata": {},
   "outputs": [
    {
     "name": "stdout",
     "output_type": "stream",
     "text": [
      "49.85792708333333\n"
     ]
    }
   ],
   "source": [
    "hashdatanew5=hashdata5.loc[hashdata5['System Time'].isin(timevalue5)]\n",
    "hashdatanew5.head()\n",
    "cpu=hashdatanew5['Cumulative Processor Energy_0(mWh)']\n",
    "print(cpu.mean())"
   ]
  },
  {
   "cell_type": "code",
   "execution_count": 43,
   "id": "b8633189",
   "metadata": {},
   "outputs": [
    {
     "name": "stdout",
     "output_type": "stream",
     "text": [
      "16.343213541666668\n"
     ]
    }
   ],
   "source": [
    "hashdatanew5=hashdata5.loc[hashdata5['System Time'].isin(timevalue5)]\n",
    "hashdatanew5.head()\n",
    "hashpower5=hashdatanew5['Processor Power_0(Watt)']\n",
    "hashmean5= hashpower5.mean()\n",
    "print(hashmean5)\n",
    "np.hasharray.append(hashmean5)"
   ]
  },
  {
   "cell_type": "markdown",
   "id": "29f68b5e",
   "metadata": {},
   "source": [
    "Hashlib data 6"
   ]
  },
  {
   "cell_type": "code",
   "execution_count": 45,
   "id": "ccb0d491",
   "metadata": {},
   "outputs": [],
   "source": [
    "hashdata6 = pd.read_csv('hashlib6_2023-4-30-20-39-41.csv')"
   ]
  },
  {
   "cell_type": "code",
   "execution_count": 46,
   "id": "e357a793",
   "metadata": {},
   "outputs": [
    {
     "name": "stdout",
     "output_type": "stream",
     "text": [
      "20:39:44\n",
      "20:40:05\n"
     ]
    }
   ],
   "source": [
    "timestamp1 = 1682883584.6303186\n",
    "dt_obj1 = datetime.fromtimestamp(timestamp1)\n",
    "time1 = dt_obj1.time()\n",
    "time1 = time1.strftime(\"%H:%M:%S\")\n",
    "print(time1)\n",
    "timestamp2 = 1682883605.6846402\n",
    "dt_obj2 = datetime.fromtimestamp(timestamp2)\n",
    "time2 = dt_obj2.time()\n",
    "time2 = time2.strftime(\"%H:%M:%S\")\n",
    "print(time2)"
   ]
  },
  {
   "cell_type": "code",
   "execution_count": 47,
   "id": "e0bb5870",
   "metadata": {},
   "outputs": [],
   "source": [
    "timevalue6 = hashdata6.loc[(hashdata6['System Time'] >= time1) & (hashdata6['System Time'] <= time2), 'System Time'].values"
   ]
  },
  {
   "cell_type": "code",
   "execution_count": 48,
   "id": "b49f94dd",
   "metadata": {},
   "outputs": [
    {
     "name": "stdout",
     "output_type": "stream",
     "text": [
      "50.473625\n"
     ]
    }
   ],
   "source": [
    "hashdatanew6=hashdata6.loc[hashdata6['System Time'].isin(timevalue6)]\n",
    "hashdatanew6.head()\n",
    "cpu=hashdatanew6['Cumulative Processor Energy_0(mWh)']\n",
    "print(cpu.mean())"
   ]
  },
  {
   "cell_type": "code",
   "execution_count": 49,
   "id": "fe4ef1d0",
   "metadata": {},
   "outputs": [
    {
     "name": "stdout",
     "output_type": "stream",
     "text": [
      "16.022369791666666\n"
     ]
    }
   ],
   "source": [
    "hashdatanew6=hashdata6.loc[hashdata6['System Time'].isin(timevalue6)]\n",
    "hashdatanew6.head()\n",
    "hashpower6=hashdatanew6['Processor Power_0(Watt)']\n",
    "hashmean6= hashpower6.mean()\n",
    "print(hashmean6)\n",
    "np.hasharray.append(hashmean6)"
   ]
  },
  {
   "cell_type": "markdown",
   "id": "19a67bfc",
   "metadata": {},
   "source": [
    "Hashlib Average"
   ]
  },
  {
   "cell_type": "code",
   "execution_count": 50,
   "id": "53a17ff2",
   "metadata": {},
   "outputs": [
    {
     "name": "stdout",
     "output_type": "stream",
     "text": [
      "15.869707521137483\n"
     ]
    }
   ],
   "source": [
    "#overall mean of all the data collected for hashlib \n",
    "overallhashlibmean= np.mean(np.hasharray)\n",
    "print(overallhashlibmean)"
   ]
  },
  {
   "cell_type": "markdown",
   "id": "84994df5",
   "metadata": {},
   "source": [
    "# SHA Library"
   ]
  },
  {
   "cell_type": "markdown",
   "id": "02fd92e1",
   "metadata": {},
   "source": [
    "SHA3 DATA1"
   ]
  },
  {
   "cell_type": "code",
   "execution_count": 227,
   "id": "a4afcc15",
   "metadata": {},
   "outputs": [],
   "source": [
    "shadata = pd.read_csv('sha1_2023-4-24-13-31-40.csv')\n",
    "np.shaarray=[]\n",
    "#print(hashdata.head())"
   ]
  },
  {
   "cell_type": "code",
   "execution_count": 228,
   "id": "2612d426",
   "metadata": {},
   "outputs": [
    {
     "name": "stdout",
     "output_type": "stream",
     "text": [
      "13:31:45\n",
      "13:31:52\n"
     ]
    }
   ],
   "source": [
    "timestamp1 = 1682339505.9156604\n",
    "dt_obj1 = datetime.fromtimestamp(timestamp1)\n",
    "time1 = dt_obj1.time()\n",
    "time1 = time1.strftime(\"%H:%M:%S\")\n",
    "print(time1)\n",
    "timestamp2 = 1682339512.841471\n",
    "dt_obj2 = datetime.fromtimestamp(timestamp2)\n",
    "time2 = dt_obj2.time()\n",
    "time2 = time2.strftime(\"%H:%M:%S\")\n",
    "print(time2)"
   ]
  },
  {
   "cell_type": "code",
   "execution_count": 229,
   "id": "3121a155",
   "metadata": {},
   "outputs": [],
   "source": [
    "timevalue = shadata.loc[(shadata['System Time'] >= time1) & (shadata['System Time'] <= time2), 'System Time'].values"
   ]
  },
  {
   "cell_type": "code",
   "execution_count": 230,
   "id": "7e733569",
   "metadata": {},
   "outputs": [
    {
     "name": "stdout",
     "output_type": "stream",
     "text": [
      "16.999000000000002\n"
     ]
    }
   ],
   "source": [
    "shadatanew=shadata.loc[shadata['System Time'].isin(timevalue)]\n",
    "shadatanew.head()\n",
    "cpu=shadatanew['Cumulative Processor Energy_0(mWh)']\n",
    "print(cpu.mean())"
   ]
  },
  {
   "cell_type": "code",
   "execution_count": 231,
   "id": "531984a6",
   "metadata": {},
   "outputs": [
    {
     "name": "stdout",
     "output_type": "stream",
     "text": [
      "14.208171875\n"
     ]
    }
   ],
   "source": [
    "shadatanew=shadata.loc[shadata['System Time'].isin(timevalue)]\n",
    "shadatanew.head()\n",
    "power=shadatanew['Processor Power_0(Watt)']\n",
    "shamean1=power.mean()\n",
    "print(shamean1)\n",
    "shaarray.append(shamean1)"
   ]
  },
  {
   "cell_type": "code",
   "execution_count": 232,
   "id": "954f0f9c",
   "metadata": {},
   "outputs": [
    {
     "data": {
      "image/png": "[encoded data removed]",
      "text/plain": [
       "<Figure size 640x480 with 1 Axes>"
      ]
     },
     "metadata": {},
     "output_type": "display_data"
    }
   ],
   "source": [
    "x_values = timevalue\n",
    "y_values = power\n",
    "ax = plt.gca()\n",
    "\n",
    "formatter = mdates.DateFormatter(\"%Y-%m-%d\")\n",
    "ax.xaxis.set_major_formatter(formatter)\n",
    "locator = mdates.DayLocator()\n",
    "ax.xaxis.set_major_locator(locator)\n",
    "plt.plot(x_values, y_values)\n",
    "\n",
    "plt.show()"
   ]
  },
  {
   "cell_type": "code",
   "execution_count": 233,
   "id": "09c8d409",
   "metadata": {},
   "outputs": [],
   "source": [
    "basedata = pd.read_csv('base_2023-4-24-1-45-5.csv')"
   ]
  },
  {
   "cell_type": "code",
   "execution_count": 234,
   "id": "d1cf030c",
   "metadata": {},
   "outputs": [
    {
     "name": "stdout",
     "output_type": "stream",
     "text": [
      "3.439839506172839\n"
     ]
    }
   ],
   "source": [
    "power=basedata['Processor Power_0(Watt)']\n",
    "print(power.mean())"
   ]
  },
  {
   "cell_type": "markdown",
   "id": "90a42072",
   "metadata": {},
   "source": [
    "SHA3 DATA2"
   ]
  },
  {
   "cell_type": "code",
   "execution_count": 235,
   "id": "071c95d1",
   "metadata": {},
   "outputs": [],
   "source": [
    "crypdata2 = pd.read_csv('sha2_2023-4-24-16-4-8.csv')"
   ]
  },
  {
   "cell_type": "code",
   "execution_count": 236,
   "id": "2fcbc1c6",
   "metadata": {},
   "outputs": [
    {
     "name": "stdout",
     "output_type": "stream",
     "text": [
      "16:04:12\n",
      "16:04:19\n"
     ]
    }
   ],
   "source": [
    "timestamp1 = 1682348652.6732154\n",
    "dt_obj1 = datetime.fromtimestamp(timestamp1)\n",
    "time1 = dt_obj1.time()\n",
    "time1 = time1.strftime(\"%H:%M:%S\")\n",
    "print(time1)\n",
    "timestamp2 = 1682348659.497451\n",
    "dt_obj2 = datetime.fromtimestamp(timestamp2)\n",
    "time2 = dt_obj2.time()\n",
    "time2 = time2.strftime(\"%H:%M:%S\")\n",
    "print(time2)"
   ]
  },
  {
   "cell_type": "code",
   "execution_count": 237,
   "id": "0ef36700",
   "metadata": {},
   "outputs": [],
   "source": [
    "timevalue = crypdata2.loc[(crypdata2['System Time'] >= time1) & (crypdata2['System Time'] <= time2), 'System Time'].values"
   ]
  },
  {
   "cell_type": "code",
   "execution_count": 238,
   "id": "bcd875a9",
   "metadata": {},
   "outputs": [
    {
     "name": "stdout",
     "output_type": "stream",
     "text": [
      "16.9766875\n"
     ]
    }
   ],
   "source": [
    "crypdatanew=crypdata2.loc[crypdata2['System Time'].isin(timevalue)]\n",
    "crypdatanew.head()\n",
    "cpu=crypdatanew['Cumulative Processor Energy_0(mWh)']\n",
    "print(cpu.mean())"
   ]
  },
  {
   "cell_type": "code",
   "execution_count": 239,
   "id": "c7474037",
   "metadata": {},
   "outputs": [
    {
     "name": "stdout",
     "output_type": "stream",
     "text": [
      "14.1849375\n",
      "[14.208171875, 14.1849375, 14.1849375, 14.208171875, 14.1849375]\n"
     ]
    }
   ],
   "source": [
    "crypdatanew=crypdata2.loc[crypdata2['System Time'].isin(timevalue)]\n",
    "crypdatanew.head()\n",
    "power=crypdatanew['Processor Power_0(Watt)']\n",
    "shamean2=power.mean()\n",
    "print(shamean2)\n",
    "shaarray.append(shamean2)\n",
    "print(shaarray)"
   ]
  },
  {
   "cell_type": "code",
   "execution_count": 240,
   "id": "134f2ae1",
   "metadata": {},
   "outputs": [
    {
     "name": "stdout",
     "output_type": "stream",
     "text": [
      "14.194231249999998\n"
     ]
    }
   ],
   "source": [
    "#array = np.shaarray()\n",
    "overallshamean= np.mean(shaarray)\n",
    "print(overallshamean)"
   ]
  },
  {
   "cell_type": "markdown",
   "id": "ea7543a2",
   "metadata": {},
   "source": [
    "# Crypsha\n",
    "CYPTOSHA DATA1"
   ]
  },
  {
   "cell_type": "code",
   "execution_count": 51,
   "id": "4bea3583",
   "metadata": {},
   "outputs": [],
   "source": [
    "crypdata2 = pd.read_csv('crpsha1_2023-4-24-14-39-3.csv')\n",
    "np.cryparray=[]"
   ]
  },
  {
   "cell_type": "code",
   "execution_count": 52,
   "id": "632d4d3a",
   "metadata": {},
   "outputs": [
    {
     "name": "stdout",
     "output_type": "stream",
     "text": [
      "14:39:08\n",
      "14:41:06\n"
     ]
    }
   ],
   "source": [
    "timestamp1 = 1682343548.5280406\n",
    "dt_obj1 = datetime.fromtimestamp(timestamp1)\n",
    "time1 = dt_obj1.time()\n",
    "time1 = time1.strftime(\"%H:%M:%S\")\n",
    "print(time1)\n",
    "timestamp2 = 1682343666.7673244\n",
    "dt_obj2 = datetime.fromtimestamp(timestamp2)\n",
    "time2 = dt_obj2.time()\n",
    "time2 = time2.strftime(\"%H:%M:%S\")\n",
    "print(time2)"
   ]
  },
  {
   "cell_type": "code",
   "execution_count": 53,
   "id": "0d1898d5",
   "metadata": {},
   "outputs": [],
   "source": [
    "timevalue = crypdata2.loc[(crypdata2['System Time'] >= time1) & (crypdata2['System Time'] <= time2), 'System Time'].values"
   ]
  },
  {
   "cell_type": "code",
   "execution_count": 54,
   "id": "13afeb22",
   "metadata": {},
   "outputs": [
    {
     "name": "stdout",
     "output_type": "stream",
     "text": [
      "278.0721942379182\n"
     ]
    }
   ],
   "source": [
    "crypdatanew=crypdata2.loc[crypdata2['System Time'].isin(timevalue)]\n",
    "crypdatanew.head()\n",
    "cpu=crypdatanew['Cumulative Processor Energy_0(mWh)']\n",
    "print(cpu.mean())"
   ]
  },
  {
   "cell_type": "code",
   "execution_count": 55,
   "id": "3a9b78d0",
   "metadata": {},
   "outputs": [
    {
     "name": "stdout",
     "output_type": "stream",
     "text": [
      "16.529649628252788\n"
     ]
    }
   ],
   "source": [
    "crypdatanew=crypdata2.loc[crypdata2['System Time'].isin(timevalue)]\n",
    "crypdatanew.head()\n",
    "power=crypdatanew['Processor Power_0(Watt)']\n",
    "shamean1=power.mean()\n",
    "print(shamean1)\n",
    "np.cryparray.append(shamean1)"
   ]
  },
  {
   "cell_type": "markdown",
   "id": "0bbe67fb",
   "metadata": {},
   "source": [
    "CRYPSHA DATA2"
   ]
  },
  {
   "cell_type": "code",
   "execution_count": 56,
   "id": "fa0b06f4",
   "metadata": {},
   "outputs": [],
   "source": [
    "crypdata2 = pd.read_csv('crpsha2_2023-4-24-15-15-5.csv')"
   ]
  },
  {
   "cell_type": "code",
   "execution_count": 57,
   "id": "74b292f6",
   "metadata": {},
   "outputs": [
    {
     "name": "stdout",
     "output_type": "stream",
     "text": [
      "15:15:08\n",
      "15:17:03\n"
     ]
    }
   ],
   "source": [
    "timestamp1 = 1682345708.3076754\n",
    "dt_obj1 = datetime.fromtimestamp(timestamp1)\n",
    "time1 = dt_obj1.time()\n",
    "time1 = time1.strftime(\"%H:%M:%S\")\n",
    "print(time1)\n",
    "timestamp2 = 1682345823.9145434\n",
    "dt_obj2 = datetime.fromtimestamp(timestamp2)\n",
    "time2 = dt_obj2.time()\n",
    "time2 = time2.strftime(\"%H:%M:%S\")\n",
    "print(time2)"
   ]
  },
  {
   "cell_type": "code",
   "execution_count": 58,
   "id": "b8e8bd72",
   "metadata": {},
   "outputs": [],
   "source": [
    "timevalue = crypdata2.loc[(crypdata2['System Time'] >= time1) & (crypdata2['System Time'] <= time2), 'System Time'].values"
   ]
  },
  {
   "cell_type": "code",
   "execution_count": 59,
   "id": "697116a0",
   "metadata": {},
   "outputs": [
    {
     "name": "stdout",
     "output_type": "stream",
     "text": [
      "264.6596911344137\n"
     ]
    }
   ],
   "source": [
    "crypdatanew=crypdata2.loc[crypdata2['System Time'].isin(timevalue)]\n",
    "crypdatanew.head()\n",
    "cpu=crypdatanew['Cumulative Processor Energy_0(mWh)']\n",
    "print(cpu.mean())"
   ]
  },
  {
   "cell_type": "code",
   "execution_count": 60,
   "id": "40289795",
   "metadata": {},
   "outputs": [
    {
     "name": "stdout",
     "output_type": "stream",
     "text": [
      "16.359508102955196\n"
     ]
    }
   ],
   "source": [
    "crypdatanew=crypdata2.loc[crypdata2['System Time'].isin(timevalue)]\n",
    "crypdatanew.head()\n",
    "power=crypdatanew['Processor Power_0(Watt)']\n",
    "crypmean2=power.mean()\n",
    "print(crypmean2)\n",
    "np.cryparray.append(crypmean2)"
   ]
  },
  {
   "cell_type": "markdown",
   "id": "18a11f30",
   "metadata": {},
   "source": [
    "CRYPSHA DATA3"
   ]
  },
  {
   "cell_type": "code",
   "execution_count": 61,
   "id": "f4548eaf",
   "metadata": {},
   "outputs": [],
   "source": [
    "crypdata2 = pd.read_csv('crpsha3_2023-4-24-15-17-47.csv')"
   ]
  },
  {
   "cell_type": "code",
   "execution_count": 62,
   "id": "0f3d0c67",
   "metadata": {},
   "outputs": [
    {
     "name": "stdout",
     "output_type": "stream",
     "text": [
      "15:17:50\n",
      "15:19:46\n"
     ]
    }
   ],
   "source": [
    "timestamp1 = 1682345870.5612676\n",
    "dt_obj1 = datetime.fromtimestamp(timestamp1)\n",
    "time1 = dt_obj1.time()\n",
    "time1 = time1.strftime(\"%H:%M:%S\")\n",
    "print(time1)\n",
    "timestamp2 = 1682345986.6679308\n",
    "dt_obj2 = datetime.fromtimestamp(timestamp2)\n",
    "time2 = dt_obj2.time()\n",
    "time2 = time2.strftime(\"%H:%M:%S\")\n",
    "print(time2)"
   ]
  },
  {
   "cell_type": "code",
   "execution_count": 63,
   "id": "ab92f432",
   "metadata": {},
   "outputs": [],
   "source": [
    "timevalue = crypdata2.loc[(crypdata2['System Time'] >= time1) & (crypdata2['System Time'] <= time2), 'System Time'].values"
   ]
  },
  {
   "cell_type": "code",
   "execution_count": 64,
   "id": "994b2218",
   "metadata": {},
   "outputs": [
    {
     "name": "stdout",
     "output_type": "stream",
     "text": [
      "264.71679697828137\n"
     ]
    }
   ],
   "source": [
    "crypdatanew=crypdata2.loc[crypdata2['System Time'].isin(timevalue)]\n",
    "crypdatanew.head()\n",
    "cpu=crypdatanew['Cumulative Processor Energy_0(mWh)']\n",
    "print(cpu.mean())"
   ]
  },
  {
   "cell_type": "code",
   "execution_count": 65,
   "id": "accf681b",
   "metadata": {},
   "outputs": [
    {
     "name": "stdout",
     "output_type": "stream",
     "text": [
      "16.153651558073655\n"
     ]
    }
   ],
   "source": [
    "crypdatanew=crypdata2.loc[crypdata2['System Time'].isin(timevalue)]\n",
    "crypdatanew.head()\n",
    "power=crypdatanew['Processor Power_0(Watt)']\n",
    "crypmean3=power.mean()\n",
    "print(crypmean3)\n",
    "np.cryparray.append(crypmean3)"
   ]
  },
  {
   "cell_type": "markdown",
   "id": "796501f0",
   "metadata": {},
   "source": [
    "CRYPSHA DATA4"
   ]
  },
  {
   "cell_type": "code",
   "execution_count": 66,
   "id": "ea5b0138",
   "metadata": {},
   "outputs": [],
   "source": [
    "crypdata2 = pd.read_csv('crpsha4_2023-4-24-15-38-37.csv')"
   ]
  },
  {
   "cell_type": "code",
   "execution_count": 67,
   "id": "3ca5c07b",
   "metadata": {},
   "outputs": [
    {
     "name": "stdout",
     "output_type": "stream",
     "text": [
      "15:38:41\n",
      "15:40:38\n"
     ]
    }
   ],
   "source": [
    "timestamp1 = 1682347121.2805653\n",
    "dt_obj1 = datetime.fromtimestamp(timestamp1)\n",
    "time1 = dt_obj1.time()\n",
    "time1 = time1.strftime(\"%H:%M:%S\")\n",
    "print(time1)\n",
    "timestamp2 = 1682347238.0874777\n",
    "dt_obj2 = datetime.fromtimestamp(timestamp2)\n",
    "time2 = dt_obj2.time()\n",
    "time2 = time2.strftime(\"%H:%M:%S\")\n",
    "print(time2)"
   ]
  },
  {
   "cell_type": "code",
   "execution_count": 68,
   "id": "3679f7ab",
   "metadata": {},
   "outputs": [],
   "source": [
    "timevalue = crypdata2.loc[(crypdata2['System Time'] >= time1) & (crypdata2['System Time'] <= time2), 'System Time'].values"
   ]
  },
  {
   "cell_type": "code",
   "execution_count": 69,
   "id": "71441d75",
   "metadata": {},
   "outputs": [
    {
     "name": "stdout",
     "output_type": "stream",
     "text": [
      "270.07615572232646\n"
     ]
    }
   ],
   "source": [
    "crypdatanew=crypdata2.loc[crypdata2['System Time'].isin(timevalue)]\n",
    "crypdatanew.head()\n",
    "cpu=crypdatanew['Cumulative Processor Energy_0(mWh)']\n",
    "print(cpu.mean())"
   ]
  },
  {
   "cell_type": "code",
   "execution_count": 70,
   "id": "70d0dd26",
   "metadata": {},
   "outputs": [
    {
     "name": "stdout",
     "output_type": "stream",
     "text": [
      "16.36459849906191\n"
     ]
    }
   ],
   "source": [
    "crypdatanew=crypdata2.loc[crypdata2['System Time'].isin(timevalue)]\n",
    "crypdatanew.head()\n",
    "power=crypdatanew['Processor Power_0(Watt)']\n",
    "crypmean4=power.mean()\n",
    "print(crypmean4)\n",
    "np.cryparray.append(crypmean4)"
   ]
  },
  {
   "cell_type": "markdown",
   "id": "14a51733",
   "metadata": {},
   "source": [
    "CRYPSHA DATA 5"
   ]
  },
  {
   "cell_type": "code",
   "execution_count": 72,
   "id": "b22e0cc7",
   "metadata": {},
   "outputs": [],
   "source": [
    "crypdata5 = pd.read_csv('crpsha5_2023-4-30-20-22-27.csv')"
   ]
  },
  {
   "cell_type": "code",
   "execution_count": 73,
   "id": "b69a4b3a",
   "metadata": {},
   "outputs": [
    {
     "name": "stdout",
     "output_type": "stream",
     "text": [
      "20:22:30\n",
      "20:24:29\n"
     ]
    }
   ],
   "source": [
    "timestamp1 = 1682882550.530225\n",
    "dt_obj1 = datetime.fromtimestamp(timestamp1)\n",
    "time1 = dt_obj1.time()\n",
    "time1 = time1.strftime(\"%H:%M:%S\")\n",
    "print(time1)\n",
    "timestamp2 = 1682882669.438851\n",
    "dt_obj2 = datetime.fromtimestamp(timestamp2)\n",
    "time2 = dt_obj2.time()\n",
    "time2 = time2.strftime(\"%H:%M:%S\")\n",
    "print(time2)"
   ]
  },
  {
   "cell_type": "code",
   "execution_count": 74,
   "id": "7aa5a1dc",
   "metadata": {},
   "outputs": [],
   "source": [
    "timevalue5 = crypdata5.loc[(crypdata5['System Time'] >= time1) & (crypdata5['System Time'] <= time2), 'System Time'].values"
   ]
  },
  {
   "cell_type": "code",
   "execution_count": 75,
   "id": "22d085b2",
   "metadata": {},
   "outputs": [
    {
     "name": "stdout",
     "output_type": "stream",
     "text": [
      "278.2794728110599\n"
     ]
    }
   ],
   "source": [
    "crypdatanew5=crypdata5.loc[crypdata5['System Time'].isin(timevalue5)]\n",
    "crypdatanew5.head()\n",
    "cpu=crypdatanew5['Cumulative Processor Energy_0(mWh)']\n",
    "print(cpu.mean())"
   ]
  },
  {
   "cell_type": "code",
   "execution_count": 76,
   "id": "863b20cd",
   "metadata": {},
   "outputs": [
    {
     "name": "stdout",
     "output_type": "stream",
     "text": [
      "16.635321658986175\n"
     ]
    }
   ],
   "source": [
    "crypdatanew5=crypdata5.loc[crypdata5['System Time'].isin(timevalue5)]\n",
    "crypdatanew5.head()\n",
    "power=crypdatanew5['Processor Power_0(Watt)']\n",
    "crypmean5=power.mean()\n",
    "print(crypmean5)\n",
    "np.cryparray.append(crypmean5)"
   ]
  },
  {
   "cell_type": "markdown",
   "id": "ed3b446b",
   "metadata": {},
   "source": [
    "CRYPSHA DATA 6"
   ]
  },
  {
   "cell_type": "code",
   "execution_count": 78,
   "id": "61fe6176",
   "metadata": {},
   "outputs": [],
   "source": [
    "crypdata6 = pd.read_csv('crpsha6_2023-4-30-20-25-23.csv')"
   ]
  },
  {
   "cell_type": "code",
   "execution_count": 79,
   "id": "57670e2d",
   "metadata": {},
   "outputs": [
    {
     "name": "stdout",
     "output_type": "stream",
     "text": [
      "20:25:28\n",
      "20:27:24\n"
     ]
    }
   ],
   "source": [
    "timestamp1 = 1682882728.186972\n",
    "dt_obj1 = datetime.fromtimestamp(timestamp1)\n",
    "time1 = dt_obj1.time()\n",
    "time1 = time1.strftime(\"%H:%M:%S\")\n",
    "print(time1)\n",
    "timestamp2 = 1682882844.8960962\n",
    "dt_obj2 = datetime.fromtimestamp(timestamp2)\n",
    "time2 = dt_obj2.time()\n",
    "time2 = time2.strftime(\"%H:%M:%S\")\n",
    "print(time2)"
   ]
  },
  {
   "cell_type": "code",
   "execution_count": 80,
   "id": "7c328a0a",
   "metadata": {},
   "outputs": [],
   "source": [
    "timevalue6 = crypdata6.loc[(crypdata6['System Time'] >= time1) & (crypdata6['System Time'] <= time2), 'System Time'].values"
   ]
  },
  {
   "cell_type": "code",
   "execution_count": 81,
   "id": "55218707",
   "metadata": {},
   "outputs": [
    {
     "name": "stdout",
     "output_type": "stream",
     "text": [
      "269.1943179245283\n"
     ]
    }
   ],
   "source": [
    "crypdatanew6=crypdata6.loc[crypdata6['System Time'].isin(timevalue6)]\n",
    "crypdatanew6.head()\n",
    "cpu=crypdatanew6['Cumulative Processor Energy_0(mWh)']\n",
    "print(cpu.mean())"
   ]
  },
  {
   "cell_type": "code",
   "execution_count": 82,
   "id": "11de5719",
   "metadata": {},
   "outputs": [
    {
     "name": "stdout",
     "output_type": "stream",
     "text": [
      "16.081656603773585\n"
     ]
    }
   ],
   "source": [
    "crypdatanew6=crypdata6.loc[crypdata6['System Time'].isin(timevalue6)]\n",
    "crypdatanew6.head()\n",
    "power=crypdatanew6['Processor Power_0(Watt)']\n",
    "crypmean6=power.mean()\n",
    "print(crypmean6)\n",
    "np.cryparray.append(crypmean6)"
   ]
  },
  {
   "cell_type": "markdown",
   "id": "05e07854",
   "metadata": {},
   "source": [
    "CRYPSHA DATA 7"
   ]
  },
  {
   "cell_type": "code",
   "execution_count": 85,
   "id": "2781b865",
   "metadata": {},
   "outputs": [],
   "source": [
    "crypdata7 = pd.read_csv('crpsha7_2023-4-30-20-31-20.csv')"
   ]
  },
  {
   "cell_type": "code",
   "execution_count": 86,
   "id": "724c3fff",
   "metadata": {},
   "outputs": [
    {
     "name": "stdout",
     "output_type": "stream",
     "text": [
      "20:31:22\n",
      "20:33:19\n"
     ]
    }
   ],
   "source": [
    "timestamp1 = 1682883082.913565\n",
    "dt_obj1 = datetime.fromtimestamp(timestamp1)\n",
    "time1 = dt_obj1.time()\n",
    "time1 = time1.strftime(\"%H:%M:%S\")\n",
    "print(time1)\n",
    "timestamp2 = 1682883199.3529627\n",
    "dt_obj2 = datetime.fromtimestamp(timestamp2)\n",
    "time2 = dt_obj2.time()\n",
    "time2 = time2.strftime(\"%H:%M:%S\")\n",
    "print(time2)"
   ]
  },
  {
   "cell_type": "code",
   "execution_count": 87,
   "id": "b939328d",
   "metadata": {},
   "outputs": [],
   "source": [
    "timevalue7 = crypdata7.loc[(crypdata7['System Time'] >= time1) & (crypdata7['System Time'] <= time2), 'System Time'].values"
   ]
  },
  {
   "cell_type": "code",
   "execution_count": 88,
   "id": "d2dc9a0e",
   "metadata": {},
   "outputs": [
    {
     "name": "stdout",
     "output_type": "stream",
     "text": [
      "276.0839033771107\n"
     ]
    }
   ],
   "source": [
    "crypdatanew7=crypdata7.loc[crypdata7['System Time'].isin(timevalue7)]\n",
    "crypdatanew7.head()\n",
    "cpu=crypdatanew7['Cumulative Processor Energy_0(mWh)']\n",
    "print(cpu.mean())"
   ]
  },
  {
   "cell_type": "code",
   "execution_count": 89,
   "id": "356fd3ea",
   "metadata": {},
   "outputs": [
    {
     "name": "stdout",
     "output_type": "stream",
     "text": [
      "16.554255159474675\n"
     ]
    }
   ],
   "source": [
    "crypdatanew7=crypdata7.loc[crypdata7['System Time'].isin(timevalue7)]\n",
    "crypdatanew7.head()\n",
    "power=crypdatanew7['Processor Power_0(Watt)']\n",
    "crypmean7=power.mean()\n",
    "print(crypmean7)\n",
    "np.cryparray.append(crypmean7)"
   ]
  },
  {
   "cell_type": "markdown",
   "id": "0da62732",
   "metadata": {},
   "source": [
    "Overall mean of crypsha"
   ]
  },
  {
   "cell_type": "code",
   "execution_count": 90,
   "id": "2e6c0a89",
   "metadata": {},
   "outputs": [
    {
     "name": "stdout",
     "output_type": "stream",
     "text": [
      "[16.529649628252788, 16.359508102955196, 16.153651558073655, 16.36459849906191, 16.635321658986175, 16.081656603773585, 16.554255159474675]\n"
     ]
    }
   ],
   "source": [
    "print(np.cryparray)"
   ]
  },
  {
   "cell_type": "code",
   "execution_count": 91,
   "id": "9d7e0102",
   "metadata": {},
   "outputs": [
    {
     "name": "stdout",
     "output_type": "stream",
     "text": [
      "16.38266303008257\n"
     ]
    }
   ],
   "source": [
    "overallcrypmean= np.mean(np.cryparray)\n",
    "print(overallcrypmean)"
   ]
  },
  {
   "cell_type": "markdown",
   "id": "aa15cb08",
   "metadata": {},
   "source": [
    "NACL DATA1"
   ]
  },
  {
   "cell_type": "code",
   "execution_count": 262,
   "id": "5a580156",
   "metadata": {},
   "outputs": [],
   "source": [
    "nacldata1 = pd.read_csv('nacl1_2023-4-24-16-29-28.csv')\n",
    "np.naclarray=[]"
   ]
  },
  {
   "cell_type": "code",
   "execution_count": 263,
   "id": "bb5bc0af",
   "metadata": {},
   "outputs": [
    {
     "name": "stdout",
     "output_type": "stream",
     "text": [
      "16:29:32\n",
      "16:29:34\n"
     ]
    }
   ],
   "source": [
    "timestamp1 = 1682350172.0084558\n",
    "dt_obj1 = datetime.fromtimestamp(timestamp1)\n",
    "time1 = dt_obj1.time()\n",
    "time1 = time1.strftime(\"%H:%M:%S\")\n",
    "print(time1)\n",
    "timestamp2 = 1682350174.9526312\n",
    "dt_obj2 = datetime.fromtimestamp(timestamp2)\n",
    "time2 = dt_obj2.time()\n",
    "time2 = time2.strftime(\"%H:%M:%S\")\n",
    "print(time2)"
   ]
  },
  {
   "cell_type": "code",
   "execution_count": 264,
   "id": "64980a7e",
   "metadata": {},
   "outputs": [],
   "source": [
    "timevalue = nacldata1.loc[(nacldata1['System Time'] >= time1) & (nacldata1['System Time'] <= time2), 'System Time'].values"
   ]
  },
  {
   "cell_type": "code",
   "execution_count": 265,
   "id": "19d43543",
   "metadata": {},
   "outputs": [
    {
     "name": "stdout",
     "output_type": "stream",
     "text": [
      "9.621052631578946\n"
     ]
    }
   ],
   "source": [
    "nacldatanew1=nacldata1.loc[nacldata1['System Time'].isin(timevalue)]\n",
    "nacldatanew1.head()\n",
    "cpu=nacldatanew1['Cumulative Processor Energy_0(mWh)']\n",
    "print(cpu.mean())"
   ]
  },
  {
   "cell_type": "code",
   "execution_count": 266,
   "id": "798ba72d",
   "metadata": {},
   "outputs": [
    {
     "name": "stdout",
     "output_type": "stream",
     "text": [
      "16.643\n"
     ]
    }
   ],
   "source": [
    "nacldatanew1=nacldata1.loc[nacldata1['System Time'].isin(timevalue)]\n",
    "nacldatanew1.head()\n",
    "power=nacldatanew1['Processor Power_0(Watt)']\n",
    "naclmean1=power.mean()\n",
    "print(naclmean1)\n",
    "np.naclarray.append(naclmean1)"
   ]
  },
  {
   "cell_type": "markdown",
   "id": "7c8dfa2a",
   "metadata": {},
   "source": [
    "NACL DATA"
   ]
  },
  {
   "cell_type": "code",
   "execution_count": 267,
   "id": "7f71d174",
   "metadata": {},
   "outputs": [],
   "source": [
    "nacldata2 = pd.read_csv('nacl2_2023-4-24-16-30-54.csv')"
   ]
  },
  {
   "cell_type": "code",
   "execution_count": 268,
   "id": "17109879",
   "metadata": {},
   "outputs": [
    {
     "name": "stdout",
     "output_type": "stream",
     "text": [
      "16:30:57\n",
      "16:31:00\n"
     ]
    }
   ],
   "source": [
    "timestamp1 = 1682350257.7113106\n",
    "dt_obj1 = datetime.fromtimestamp(timestamp1)\n",
    "time1 = dt_obj1.time()\n",
    "time1 = time1.strftime(\"%H:%M:%S\")\n",
    "print(time1)\n",
    "timestamp2 = 1682350260.5533032\n",
    "dt_obj2 = datetime.fromtimestamp(timestamp2)\n",
    "time2 = dt_obj2.time()\n",
    "time2 = time2.strftime(\"%H:%M:%S\")\n",
    "print(time2)"
   ]
  },
  {
   "cell_type": "code",
   "execution_count": 269,
   "id": "9ae7541e",
   "metadata": {},
   "outputs": [],
   "source": [
    "timevalue = nacldata2.loc[(nacldata2['System Time'] >= time1) & (nacldata2['System Time'] <= time2), 'System Time'].values"
   ]
  },
  {
   "cell_type": "code",
   "execution_count": 270,
   "id": "d34ef313",
   "metadata": {},
   "outputs": [
    {
     "name": "stdout",
     "output_type": "stream",
     "text": [
      "7.043814814814813\n"
     ]
    }
   ],
   "source": [
    "nacldatanew2=nacldata2.loc[nacldata2['System Time'].isin(timevalue)]\n",
    "nacldatanew2.head()\n",
    "cpu=nacldatanew2['Cumulative Processor Energy_0(mWh)']\n",
    "print(cpu.mean())"
   ]
  },
  {
   "cell_type": "code",
   "execution_count": 271,
   "id": "9920217a",
   "metadata": {},
   "outputs": [
    {
     "name": "stdout",
     "output_type": "stream",
     "text": [
      "12.351851851851851\n"
     ]
    }
   ],
   "source": [
    "nacldatanew2=nacldata2.loc[nacldata2['System Time'].isin(timevalue)]\n",
    "nacldatanew2.head()\n",
    "power=nacldatanew2['Processor Power_0(Watt)']\n",
    "naclmean2=power.mean()\n",
    "print(naclmean2)\n",
    "np.naclarray.append(naclmean2)"
   ]
  },
  {
   "cell_type": "code",
   "execution_count": 272,
   "id": "33c0d5ba",
   "metadata": {},
   "outputs": [
    {
     "name": "stdout",
     "output_type": "stream",
     "text": [
      "14.497425925925926\n"
     ]
    }
   ],
   "source": [
    "overallnaclpmean= np.mean(np.naclarray)\n",
    "print(overallnaclpmean)"
   ]
  },
  {
   "cell_type": "code",
   "execution_count": null,
   "id": "11fcea0c",
   "metadata": {},
   "outputs": [],
   "source": []
  },
  {
   "cell_type": "code",
   "execution_count": 273,
   "id": "ecdfa016",
   "metadata": {},
   "outputs": [
    {
     "data": {
      "image/png": "[encoded data removed]",
      "text/plain": [
       "<Figure size 640x480 with 1 Axes>"
      ]
     },
     "metadata": {},
     "output_type": "display_data"
    }
   ],
   "source": [
    "labels = np.array(['HashLib', 'SHA', 'CRYP','NACL'])\n",
    "values1 = np.array([overallhashlibmean, overallshamean, overallcrypmean, overallnaclpmean])\n",
    "#values2 = np.array([20, 30, 10, 50, 40])\n",
    "\n",
    "# create a bar chart\n",
    "fig, ax = plt.subplots()\n",
    "ax.bar(labels, values1, label='Power')\n",
    "#ax.bar(labels, values2, bottom=values1, label='Values 2')\n",
    "\n",
    "# add some labels and a legend\n",
    "ax.set_ylabel('Power')\n",
    "ax.set_xlabel('Libraries')\n",
    "ax.legend()\n",
    "\n",
    "# show the chart\n",
    "plt.show()"
   ]
  },
  {
   "cell_type": "code",
   "execution_count": null,
   "id": "64ddf377",
   "metadata": {},
   "outputs": [],
   "source": []
  }
 ],
 "metadata": {
  "kernelspec": {
   "display_name": "Python 3 (ipykernel)",
   "language": "python",
   "name": "python3"
  },
  "language_info": {
   "codemirror_mode": {
    "name": "ipython",
    "version": 3
   },
   "file_extension": ".py",
   "mimetype": "text/x-python",
   "name": "python",
   "nbconvert_exporter": "python",
   "pygments_lexer": "ipython3",
   "version": "3.7.9"
  }
 },
 "nbformat": 4,
 "nbformat_minor": 5
}
